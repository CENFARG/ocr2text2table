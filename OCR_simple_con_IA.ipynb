{
  "nbformat": 4,
  "nbformat_minor": 0,
  "metadata": {
    "colab": {
      "provenance": [],
      "authorship_tag": "ABX9TyMDCL2CW1ZfUSK9uAYNee0y",
      "include_colab_link": true
    },
    "kernelspec": {
      "name": "python3",
      "display_name": "Python 3"
    },
    "language_info": {
      "name": "python"
    }
  },
  "cells": [
    {
      "cell_type": "markdown",
      "metadata": {
        "id": "view-in-github",
        "colab_type": "text"
      },
      "source": [
        "<a href=\"https://colab.research.google.com/github/CENFARG/ocr2text2table/blob/main/OCR_simple_con_IA.ipynb\" target=\"_parent\"><img src=\"https://colab.research.google.com/assets/colab-badge.svg\" alt=\"Open In Colab\"/></a>"
      ]
    },
    {
      "cell_type": "markdown",
      "source": [
        "Con esta linea le decimos al al compilador (programa que ejecuta el codigo) que instale las herramientas que necesitamos"
      ],
      "metadata": {
        "id": "u0epNutu2ADG"
      }
    },
    {
      "cell_type": "code",
      "execution_count": 87,
      "metadata": {
        "colab": {
          "base_uri": "https://localhost:8080/"
        },
        "id": "zBBPAECi1xmp",
        "outputId": "f428165b-6c72-48ed-af15-60c6a6566d38"
      },
      "outputs": [
        {
          "output_type": "stream",
          "name": "stdout",
          "text": [
            "Reading package lists... Done\n",
            "Building dependency tree... Done\n",
            "Reading state information... Done\n",
            "tesseract-ocr is already the newest version (4.1.1-2.1build1).\n",
            "tesseract-ocr-spa is already the newest version (1:4.00~git30-7274cfa-1.1).\n",
            "poppler-utils is already the newest version (22.02.0-2ubuntu0.6).\n",
            "0 upgraded, 0 newly installed, 0 to remove and 29 not upgraded.\n",
            "Requirement already satisfied: pytesseract in /usr/local/lib/python3.11/dist-packages (0.3.13)\n",
            "Requirement already satisfied: pdf2image in /usr/local/lib/python3.11/dist-packages (1.17.0)\n",
            "Requirement already satisfied: opencv-python in /usr/local/lib/python3.11/dist-packages (4.11.0.86)\n",
            "Requirement already satisfied: pandas in /usr/local/lib/python3.11/dist-packages (2.2.2)\n",
            "Requirement already satisfied: openai in /usr/local/lib/python3.11/dist-packages (1.61.1)\n",
            "Requirement already satisfied: tabula-py in /usr/local/lib/python3.11/dist-packages (2.10.0)\n",
            "Requirement already satisfied: markdownify in /usr/local/lib/python3.11/dist-packages (1.1.0)\n",
            "Requirement already satisfied: python-docx in /usr/local/lib/python3.11/dist-packages (1.1.2)\n",
            "Requirement already satisfied: xlsxwriter in /usr/local/lib/python3.11/dist-packages (3.2.2)\n",
            "Requirement already satisfied: packaging>=21.3 in /usr/local/lib/python3.11/dist-packages (from pytesseract) (24.2)\n",
            "Requirement already satisfied: Pillow>=8.0.0 in /usr/local/lib/python3.11/dist-packages (from pytesseract) (11.1.0)\n",
            "Requirement already satisfied: numpy>=1.21.2 in /usr/local/lib/python3.11/dist-packages (from opencv-python) (2.0.2)\n",
            "Requirement already satisfied: python-dateutil>=2.8.2 in /usr/local/lib/python3.11/dist-packages (from pandas) (2.8.2)\n",
            "Requirement already satisfied: pytz>=2020.1 in /usr/local/lib/python3.11/dist-packages (from pandas) (2025.1)\n",
            "Requirement already satisfied: tzdata>=2022.7 in /usr/local/lib/python3.11/dist-packages (from pandas) (2025.1)\n",
            "Requirement already satisfied: anyio<5,>=3.5.0 in /usr/local/lib/python3.11/dist-packages (from openai) (3.7.1)\n",
            "Requirement already satisfied: distro<2,>=1.7.0 in /usr/local/lib/python3.11/dist-packages (from openai) (1.9.0)\n",
            "Requirement already satisfied: httpx<1,>=0.23.0 in /usr/local/lib/python3.11/dist-packages (from openai) (0.28.1)\n",
            "Requirement already satisfied: jiter<1,>=0.4.0 in /usr/local/lib/python3.11/dist-packages (from openai) (0.9.0)\n",
            "Requirement already satisfied: pydantic<3,>=1.9.0 in /usr/local/lib/python3.11/dist-packages (from openai) (2.10.6)\n",
            "Requirement already satisfied: sniffio in /usr/local/lib/python3.11/dist-packages (from openai) (1.3.1)\n",
            "Requirement already satisfied: tqdm>4 in /usr/local/lib/python3.11/dist-packages (from openai) (4.67.1)\n",
            "Requirement already satisfied: typing-extensions<5,>=4.11 in /usr/local/lib/python3.11/dist-packages (from openai) (4.12.2)\n",
            "Requirement already satisfied: beautifulsoup4<5,>=4.9 in /usr/local/lib/python3.11/dist-packages (from markdownify) (4.13.3)\n",
            "Requirement already satisfied: six<2,>=1.15 in /usr/local/lib/python3.11/dist-packages (from markdownify) (1.17.0)\n",
            "Requirement already satisfied: lxml>=3.1.0 in /usr/local/lib/python3.11/dist-packages (from python-docx) (5.3.1)\n",
            "Requirement already satisfied: idna>=2.8 in /usr/local/lib/python3.11/dist-packages (from anyio<5,>=3.5.0->openai) (3.10)\n",
            "Requirement already satisfied: soupsieve>1.2 in /usr/local/lib/python3.11/dist-packages (from beautifulsoup4<5,>=4.9->markdownify) (2.6)\n",
            "Requirement already satisfied: certifi in /usr/local/lib/python3.11/dist-packages (from httpx<1,>=0.23.0->openai) (2025.1.31)\n",
            "Requirement already satisfied: httpcore==1.* in /usr/local/lib/python3.11/dist-packages (from httpx<1,>=0.23.0->openai) (1.0.7)\n",
            "Requirement already satisfied: h11<0.15,>=0.13 in /usr/local/lib/python3.11/dist-packages (from httpcore==1.*->httpx<1,>=0.23.0->openai) (0.14.0)\n",
            "Requirement already satisfied: annotated-types>=0.6.0 in /usr/local/lib/python3.11/dist-packages (from pydantic<3,>=1.9.0->openai) (0.7.0)\n",
            "Requirement already satisfied: pydantic-core==2.27.2 in /usr/local/lib/python3.11/dist-packages (from pydantic<3,>=1.9.0->openai) (2.27.2)\n"
          ]
        }
      ],
      "source": [
        "# Instalar dependencias necesarias\n",
        "!apt-get install -y poppler-utils tesseract-ocr tesseract-ocr-spa\n",
        "!pip install pytesseract pdf2image opencv-python pandas openai tabula-py markdownify python-docx xlsxwriter"
      ]
    },
    {
      "cell_type": "markdown",
      "source": [
        "Con esta linea instalamos las dependecias previamente instaladas"
      ],
      "metadata": {
        "id": "bOPdfK732Tfm"
      }
    },
    {
      "cell_type": "code",
      "source": [
        "# importamos las dependencias instaladas\n",
        "import pytesseract\n",
        "import cv2\n",
        "import numpy as np\n",
        "import pandas as pd\n",
        "import openai\n",
        "import os\n",
        "from pdf2image import convert_from_path\n",
        "from google.colab import files\n",
        "import tabula\n",
        "from PIL import Image\n",
        "from markdownify import markdownify as md\n",
        "from docx import Document"
      ],
      "metadata": {
        "id": "u3PyVCiA2KOu"
      },
      "execution_count": 88,
      "outputs": []
    },
    {
      "cell_type": "markdown",
      "source": [
        "Configuramos la herramienta de OCR Tesseract en idioma Español o el que tiene el PDF/IMAGEN"
      ],
      "metadata": {
        "id": "scIE9UPfj9ty"
      }
    },
    {
      "cell_type": "code",
      "source": [
        "# Configurar Tesseract para usar el idioma español\n",
        "os.environ[\"TESSDATA_PREFIX\"] = \"/usr/share/tesseract-ocr/4.00/tessdata/\""
      ],
      "metadata": {
        "id": "OpKo75HRkGHc"
      },
      "execution_count": 100,
      "outputs": []
    },
    {
      "cell_type": "markdown",
      "source": [
        "Crear las carpetas de trabajo de los archivos de subida y descargas"
      ],
      "metadata": {
        "id": "fCcGH--hplb1"
      }
    },
    {
      "cell_type": "code",
      "source": [
        "# Crear carpetas de trabajo\n",
        "os.makedirs(\"upload_files\", exist_ok=True)\n",
        "os.makedirs(\"output_files\", exist_ok=True)"
      ],
      "metadata": {
        "id": "awSRwfGGpswf"
      },
      "execution_count": 99,
      "outputs": []
    },
    {
      "cell_type": "markdown",
      "source": [
        "Definimos la funcion para subir archivos pdf o imagenes de hasta 20Mb"
      ],
      "metadata": {
        "id": "X8x55pIS2iSA"
      }
    },
    {
      "cell_type": "code",
      "source": [
        "def get_unique_filename(folder, filename):\n",
        "    \"\"\"Genera un nombre de archivo único si ya existe en la carpeta.\"\"\"\n",
        "    base, ext = os.path.splitext(filename)\n",
        "    counter = 1\n",
        "    new_filename = filename\n",
        "    while os.path.exists(os.path.join(folder, new_filename)):\n",
        "        new_filename = f\"{base}_{counter}{ext}\"\n",
        "        counter += 1\n",
        "    return new_filename\n",
        "\n",
        "def upload_file():\n",
        "    \"\"\"Permite subir un archivo (PDF o imagen) de hasta 20MB\"\"\"\n",
        "    uploaded = files.upload()\n",
        "    for filename in uploaded.keys():\n",
        "        file_size = os.stat(filename).st_size / (1024 * 1024)  # Convertir a MB\n",
        "        if file_size > 20:\n",
        "            print(\"El archivo excede el límite de 20MB.\")\n",
        "            return None\n",
        "        new_path = os.path.join(\"upload_files\", filename)\n",
        "        os.rename(filename, new_path)\n",
        "        return new_path"
      ],
      "metadata": {
        "id": "Ojp_JHR22qGK"
      },
      "execution_count": 98,
      "outputs": []
    },
    {
      "cell_type": "markdown",
      "source": [
        "Definimos una funcion que verifica la calidad del PDF o imagen para hacer OCR"
      ],
      "metadata": {
        "id": "S3hizhsi23vj"
      }
    },
    {
      "cell_type": "code",
      "source": [
        "def evaluate_pdf_quality(pdf_path):\n",
        "    \"\"\"Evalúa la calidad del PDF para OCR (0-100%)\"\"\"\n",
        "    images = convert_from_path(pdf_path)\n",
        "    total_score = 0\n",
        "    for img in images:\n",
        "        img = np.array(img)\n",
        "        gray = cv2.cvtColor(img, cv2.COLOR_RGB2GRAY)\n",
        "        blur = cv2.Laplacian(gray, cv2.CV_64F).var()\n",
        "        total_score += min(100, max(0, blur / 500 * 100))  # Normalizar\n",
        "    return total_score / len(images)"
      ],
      "metadata": {
        "id": "FLepRDSH29bb"
      },
      "execution_count": 101,
      "outputs": []
    },
    {
      "cell_type": "markdown",
      "source": [
        "Definimos la funcion de extracción de texto (OCR)"
      ],
      "metadata": {
        "id": "1KJygORE2-VE"
      }
    },
    {
      "cell_type": "code",
      "source": [
        "def extract_text_from_pdf(pdf_path):\n",
        "    \"\"\"Extrae texto de un PDF usando OCR y mantiene formato\"\"\"\n",
        "    images = convert_from_path(pdf_path)\n",
        "    text = \"\"\n",
        "    for img in images:\n",
        "        text += pytesseract.image_to_string(img, lang='spa', config='--oem 3 --psm 6') + \"\\n\"\n",
        "    return text\n",
        "\n",
        "def extract_text_from_image(image_path):\n",
        "    \"\"\"Extrae texto de una imagen usando OCR.\"\"\"\n",
        "    img = Image.open(image_path)\n",
        "    text = pytesseract.image_to_string(img, lang='spa', config='--oem 3 --psm 6')\n",
        "    return text\n",
        "\n",
        "def extract_tables_from_pdf(pdf_path):\n",
        "    \"\"\"Extrae todas las tablas de un PDF y las guarda en un Excel con múltiples hojas\"\"\"\n",
        "    tables = tabula.read_pdf(pdf_path, pages='all', multiple_tables=True)\n",
        "    return tables if tables else []"
      ],
      "metadata": {
        "id": "3twbiCn83ILB"
      },
      "execution_count": 102,
      "outputs": []
    },
    {
      "cell_type": "markdown",
      "source": [
        "Guardamos el archivo en formato Word y Excel"
      ],
      "metadata": {
        "id": "bVRAU38cf_2Z"
      }
    },
    {
      "cell_type": "code",
      "source": [
        "def clean_text(text):\n",
        "    \"\"\"Limpia el texto eliminando caracteres no compatibles con XML\"\"\"\n",
        "    return \"\".join(char if char.isprintable() else \" \" for char in text)\n",
        "\n",
        "def save_text_as_docx(text, filename):\n",
        "    \"\"\"Guarda el texto extraído en un archivo Word.\"\"\"\n",
        "    text = clean_text(text)\n",
        "    doc = Document()\n",
        "    doc.add_paragraph(text)\n",
        "    filename = get_unique_filename(\"output_files\", filename)\n",
        "    output_path = os.path.join(\"output_files\", filename)\n",
        "    doc.save(output_path)\n",
        "    files.download(output_path)\n",
        "    print(f\"Archivo {output_path} listo para descarga.\")\n",
        "\n",
        "def save_tables_to_excel(tables, filename):\n",
        "    \"\"\"Guarda todas las tablas extraídas en un archivo Excel con múltiples hojas.\"\"\"\n",
        "    if tables:\n",
        "        filename = get_unique_filename(\"output_files\", filename)\n",
        "        output_path = os.path.join(\"output_files\", filename)\n",
        "        with pd.ExcelWriter(output_path, engine='xlsxwriter') as writer:\n",
        "            for i, table in enumerate(tables):\n",
        "                table.to_excel(writer, sheet_name=f\"Tabla_{i+1}\", index=False)\n",
        "        files.download(output_path)\n",
        "        print(f\"Tablas guardadas en {output_path}, listas para descarga.\")"
      ],
      "metadata": {
        "id": "IA7jlT5HgRvH"
      },
      "execution_count": 103,
      "outputs": []
    },
    {
      "cell_type": "markdown",
      "source": [
        "Generamos la función para eliminar los archivos."
      ],
      "metadata": {
        "id": "9RvYTsO7qDHs"
      }
    },
    {
      "cell_type": "code",
      "source": [
        "def cleanup():\n",
        "    \"\"\"Elimina todos los archivos de las carpetas de trabajo, ignorando directorios.\"\"\"\n",
        "    confirm = input(\"¿Eliminar archivos temporales? (s/n): \").strip().lower()\n",
        "    if confirm == 's':\n",
        "        for folder in [\"upload_files\", \"output_files\"]:\n",
        "            for file in os.listdir(folder):\n",
        "                file_path = os.path.join(folder, file)\n",
        "                if os.path.isfile(file_path):  # Solo elimina archivos\n",
        "                    os.remove(file_path)\n",
        "        print(\"Archivos temporales eliminados.\")"
      ],
      "metadata": {
        "id": "f7GEj5kuqIvd"
      },
      "execution_count": 108,
      "outputs": []
    },
    {
      "cell_type": "markdown",
      "source": [
        "Flujo del programa principal para utilizar la Herramienta de OCR"
      ],
      "metadata": {
        "id": "jOV5VfT-gazJ"
      }
    },
    {
      "cell_type": "code",
      "source": [
        "# --- Flujo principal ---\n",
        "archivo = upload_file()\n",
        "if archivo:\n",
        "    nombre_base = os.path.splitext(os.path.basename(archivo))[0]\n",
        "    if archivo.endswith(\".pdf\"):\n",
        "        calidad = evaluate_pdf_quality(archivo)\n",
        "        print(f\"Calidad estimada del PDF para OCR: {calidad:.2f}%\")\n",
        "        texto = extract_text_from_pdf(archivo)\n",
        "        print(\"Extrayendo tablas...\")\n",
        "        tablas = extract_tables_from_pdf(archivo)\n",
        "        save_tables_to_excel(tablas, f\"{nombre_base}.xlsx\")\n",
        "    else:\n",
        "        texto = extract_text_from_image(archivo)\n",
        "\n",
        "    save_text_as_docx(texto, f\"{nombre_base}.docx\")\n",
        "    cleanup()\n",
        "\n",
        "    # Mejora con OpenAI (requiere API Key válida)\n",
        "    # api_key = input(\"Introduce tu OpenAI API Key (opcional para mejora de texto): \")\n",
        "    # if api_key:\n",
        "        # texto = improve_text_with_openai(texto, api_key)\n",
        "        # print(\"Texto mejorado con OpenAI.\")\n",
        "\n"
      ],
      "metadata": {
        "colab": {
          "base_uri": "https://localhost:8080/",
          "height": 217
        },
        "id": "QaI8pEjoglB0",
        "outputId": "542a95ed-35a8-4908-fcd7-5ded9d542d2d"
      },
      "execution_count": 109,
      "outputs": [
        {
          "output_type": "display_data",
          "data": {
            "text/plain": [
              "<IPython.core.display.HTML object>"
            ],
            "text/html": [
              "\n",
              "     <input type=\"file\" id=\"files-eaf4b2de-2dfd-4515-9dab-57e823c10934\" name=\"files[]\" multiple disabled\n",
              "        style=\"border:none\" />\n",
              "     <output id=\"result-eaf4b2de-2dfd-4515-9dab-57e823c10934\">\n",
              "      Upload widget is only available when the cell has been executed in the\n",
              "      current browser session. Please rerun this cell to enable.\n",
              "      </output>\n",
              "      <script>// Copyright 2017 Google LLC\n",
              "//\n",
              "// Licensed under the Apache License, Version 2.0 (the \"License\");\n",
              "// you may not use this file except in compliance with the License.\n",
              "// You may obtain a copy of the License at\n",
              "//\n",
              "//      http://www.apache.org/licenses/LICENSE-2.0\n",
              "//\n",
              "// Unless required by applicable law or agreed to in writing, software\n",
              "// distributed under the License is distributed on an \"AS IS\" BASIS,\n",
              "// WITHOUT WARRANTIES OR CONDITIONS OF ANY KIND, either express or implied.\n",
              "// See the License for the specific language governing permissions and\n",
              "// limitations under the License.\n",
              "\n",
              "/**\n",
              " * @fileoverview Helpers for google.colab Python module.\n",
              " */\n",
              "(function(scope) {\n",
              "function span(text, styleAttributes = {}) {\n",
              "  const element = document.createElement('span');\n",
              "  element.textContent = text;\n",
              "  for (const key of Object.keys(styleAttributes)) {\n",
              "    element.style[key] = styleAttributes[key];\n",
              "  }\n",
              "  return element;\n",
              "}\n",
              "\n",
              "// Max number of bytes which will be uploaded at a time.\n",
              "const MAX_PAYLOAD_SIZE = 100 * 1024;\n",
              "\n",
              "function _uploadFiles(inputId, outputId) {\n",
              "  const steps = uploadFilesStep(inputId, outputId);\n",
              "  const outputElement = document.getElementById(outputId);\n",
              "  // Cache steps on the outputElement to make it available for the next call\n",
              "  // to uploadFilesContinue from Python.\n",
              "  outputElement.steps = steps;\n",
              "\n",
              "  return _uploadFilesContinue(outputId);\n",
              "}\n",
              "\n",
              "// This is roughly an async generator (not supported in the browser yet),\n",
              "// where there are multiple asynchronous steps and the Python side is going\n",
              "// to poll for completion of each step.\n",
              "// This uses a Promise to block the python side on completion of each step,\n",
              "// then passes the result of the previous step as the input to the next step.\n",
              "function _uploadFilesContinue(outputId) {\n",
              "  const outputElement = document.getElementById(outputId);\n",
              "  const steps = outputElement.steps;\n",
              "\n",
              "  const next = steps.next(outputElement.lastPromiseValue);\n",
              "  return Promise.resolve(next.value.promise).then((value) => {\n",
              "    // Cache the last promise value to make it available to the next\n",
              "    // step of the generator.\n",
              "    outputElement.lastPromiseValue = value;\n",
              "    return next.value.response;\n",
              "  });\n",
              "}\n",
              "\n",
              "/**\n",
              " * Generator function which is called between each async step of the upload\n",
              " * process.\n",
              " * @param {string} inputId Element ID of the input file picker element.\n",
              " * @param {string} outputId Element ID of the output display.\n",
              " * @return {!Iterable<!Object>} Iterable of next steps.\n",
              " */\n",
              "function* uploadFilesStep(inputId, outputId) {\n",
              "  const inputElement = document.getElementById(inputId);\n",
              "  inputElement.disabled = false;\n",
              "\n",
              "  const outputElement = document.getElementById(outputId);\n",
              "  outputElement.innerHTML = '';\n",
              "\n",
              "  const pickedPromise = new Promise((resolve) => {\n",
              "    inputElement.addEventListener('change', (e) => {\n",
              "      resolve(e.target.files);\n",
              "    });\n",
              "  });\n",
              "\n",
              "  const cancel = document.createElement('button');\n",
              "  inputElement.parentElement.appendChild(cancel);\n",
              "  cancel.textContent = 'Cancel upload';\n",
              "  const cancelPromise = new Promise((resolve) => {\n",
              "    cancel.onclick = () => {\n",
              "      resolve(null);\n",
              "    };\n",
              "  });\n",
              "\n",
              "  // Wait for the user to pick the files.\n",
              "  const files = yield {\n",
              "    promise: Promise.race([pickedPromise, cancelPromise]),\n",
              "    response: {\n",
              "      action: 'starting',\n",
              "    }\n",
              "  };\n",
              "\n",
              "  cancel.remove();\n",
              "\n",
              "  // Disable the input element since further picks are not allowed.\n",
              "  inputElement.disabled = true;\n",
              "\n",
              "  if (!files) {\n",
              "    return {\n",
              "      response: {\n",
              "        action: 'complete',\n",
              "      }\n",
              "    };\n",
              "  }\n",
              "\n",
              "  for (const file of files) {\n",
              "    const li = document.createElement('li');\n",
              "    li.append(span(file.name, {fontWeight: 'bold'}));\n",
              "    li.append(span(\n",
              "        `(${file.type || 'n/a'}) - ${file.size} bytes, ` +\n",
              "        `last modified: ${\n",
              "            file.lastModifiedDate ? file.lastModifiedDate.toLocaleDateString() :\n",
              "                                    'n/a'} - `));\n",
              "    const percent = span('0% done');\n",
              "    li.appendChild(percent);\n",
              "\n",
              "    outputElement.appendChild(li);\n",
              "\n",
              "    const fileDataPromise = new Promise((resolve) => {\n",
              "      const reader = new FileReader();\n",
              "      reader.onload = (e) => {\n",
              "        resolve(e.target.result);\n",
              "      };\n",
              "      reader.readAsArrayBuffer(file);\n",
              "    });\n",
              "    // Wait for the data to be ready.\n",
              "    let fileData = yield {\n",
              "      promise: fileDataPromise,\n",
              "      response: {\n",
              "        action: 'continue',\n",
              "      }\n",
              "    };\n",
              "\n",
              "    // Use a chunked sending to avoid message size limits. See b/62115660.\n",
              "    let position = 0;\n",
              "    do {\n",
              "      const length = Math.min(fileData.byteLength - position, MAX_PAYLOAD_SIZE);\n",
              "      const chunk = new Uint8Array(fileData, position, length);\n",
              "      position += length;\n",
              "\n",
              "      const base64 = btoa(String.fromCharCode.apply(null, chunk));\n",
              "      yield {\n",
              "        response: {\n",
              "          action: 'append',\n",
              "          file: file.name,\n",
              "          data: base64,\n",
              "        },\n",
              "      };\n",
              "\n",
              "      let percentDone = fileData.byteLength === 0 ?\n",
              "          100 :\n",
              "          Math.round((position / fileData.byteLength) * 100);\n",
              "      percent.textContent = `${percentDone}% done`;\n",
              "\n",
              "    } while (position < fileData.byteLength);\n",
              "  }\n",
              "\n",
              "  // All done.\n",
              "  yield {\n",
              "    response: {\n",
              "      action: 'complete',\n",
              "    }\n",
              "  };\n",
              "}\n",
              "\n",
              "scope.google = scope.google || {};\n",
              "scope.google.colab = scope.google.colab || {};\n",
              "scope.google.colab._files = {\n",
              "  _uploadFiles,\n",
              "  _uploadFilesContinue,\n",
              "};\n",
              "})(self);\n",
              "</script> "
            ]
          },
          "metadata": {}
        },
        {
          "output_type": "stream",
          "name": "stdout",
          "text": [
            "Saving Oferta PH Hornos V01.pdf to Oferta PH Hornos V01.pdf\n",
            "Calidad estimada del PDF para OCR: 100.00%\n",
            "Extrayendo tablas...\n"
          ]
        },
        {
          "output_type": "display_data",
          "data": {
            "text/plain": [
              "<IPython.core.display.Javascript object>"
            ],
            "application/javascript": [
              "\n",
              "    async function download(id, filename, size) {\n",
              "      if (!google.colab.kernel.accessAllowed) {\n",
              "        return;\n",
              "      }\n",
              "      const div = document.createElement('div');\n",
              "      const label = document.createElement('label');\n",
              "      label.textContent = `Downloading \"${filename}\": `;\n",
              "      div.appendChild(label);\n",
              "      const progress = document.createElement('progress');\n",
              "      progress.max = size;\n",
              "      div.appendChild(progress);\n",
              "      document.body.appendChild(div);\n",
              "\n",
              "      const buffers = [];\n",
              "      let downloaded = 0;\n",
              "\n",
              "      const channel = await google.colab.kernel.comms.open(id);\n",
              "      // Send a message to notify the kernel that we're ready.\n",
              "      channel.send({})\n",
              "\n",
              "      for await (const message of channel.messages) {\n",
              "        // Send a message to notify the kernel that we're ready.\n",
              "        channel.send({})\n",
              "        if (message.buffers) {\n",
              "          for (const buffer of message.buffers) {\n",
              "            buffers.push(buffer);\n",
              "            downloaded += buffer.byteLength;\n",
              "            progress.value = downloaded;\n",
              "          }\n",
              "        }\n",
              "      }\n",
              "      const blob = new Blob(buffers, {type: 'application/binary'});\n",
              "      const a = document.createElement('a');\n",
              "      a.href = window.URL.createObjectURL(blob);\n",
              "      a.download = filename;\n",
              "      div.appendChild(a);\n",
              "      a.click();\n",
              "      div.remove();\n",
              "    }\n",
              "  "
            ]
          },
          "metadata": {}
        },
        {
          "output_type": "display_data",
          "data": {
            "text/plain": [
              "<IPython.core.display.Javascript object>"
            ],
            "application/javascript": [
              "download(\"download_d057d469-0c18-41a7-a0f0-7681e5692817\", \"Oferta PH Hornos V01.xlsx\", 6157)"
            ]
          },
          "metadata": {}
        },
        {
          "output_type": "stream",
          "name": "stdout",
          "text": [
            "Tablas guardadas en output_files/Oferta PH Hornos V01.xlsx, listas para descarga.\n"
          ]
        },
        {
          "output_type": "display_data",
          "data": {
            "text/plain": [
              "<IPython.core.display.Javascript object>"
            ],
            "application/javascript": [
              "\n",
              "    async function download(id, filename, size) {\n",
              "      if (!google.colab.kernel.accessAllowed) {\n",
              "        return;\n",
              "      }\n",
              "      const div = document.createElement('div');\n",
              "      const label = document.createElement('label');\n",
              "      label.textContent = `Downloading \"${filename}\": `;\n",
              "      div.appendChild(label);\n",
              "      const progress = document.createElement('progress');\n",
              "      progress.max = size;\n",
              "      div.appendChild(progress);\n",
              "      document.body.appendChild(div);\n",
              "\n",
              "      const buffers = [];\n",
              "      let downloaded = 0;\n",
              "\n",
              "      const channel = await google.colab.kernel.comms.open(id);\n",
              "      // Send a message to notify the kernel that we're ready.\n",
              "      channel.send({})\n",
              "\n",
              "      for await (const message of channel.messages) {\n",
              "        // Send a message to notify the kernel that we're ready.\n",
              "        channel.send({})\n",
              "        if (message.buffers) {\n",
              "          for (const buffer of message.buffers) {\n",
              "            buffers.push(buffer);\n",
              "            downloaded += buffer.byteLength;\n",
              "            progress.value = downloaded;\n",
              "          }\n",
              "        }\n",
              "      }\n",
              "      const blob = new Blob(buffers, {type: 'application/binary'});\n",
              "      const a = document.createElement('a');\n",
              "      a.href = window.URL.createObjectURL(blob);\n",
              "      a.download = filename;\n",
              "      div.appendChild(a);\n",
              "      a.click();\n",
              "      div.remove();\n",
              "    }\n",
              "  "
            ]
          },
          "metadata": {}
        },
        {
          "output_type": "display_data",
          "data": {
            "text/plain": [
              "<IPython.core.display.Javascript object>"
            ],
            "application/javascript": [
              "download(\"download_bfca88b5-940a-404c-9374-0c510ca72b95\", \"Oferta PH Hornos V01.docx\", 37704)"
            ]
          },
          "metadata": {}
        },
        {
          "output_type": "stream",
          "name": "stdout",
          "text": [
            "Archivo output_files/Oferta PH Hornos V01.docx listo para descarga.\n",
            "¿Eliminar archivos temporales? (s/n): s\n",
            "Archivos temporales eliminados.\n"
          ]
        }
      ]
    }
  ]
}