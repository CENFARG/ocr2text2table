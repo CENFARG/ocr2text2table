{
  "nbformat": 4,
  "nbformat_minor": 0,
  "metadata": {
    "colab": {
      "provenance": [],
      "authorship_tag": "ABX9TyMDCL2CW1ZfUSK9uAYNee0y",
      "include_colab_link": true
    },
    "kernelspec": {
      "name": "python3",
      "display_name": "Python 3"
    },
    "language_info": {
      "name": "python"
    }
  },
  "cells": [
    {
      "cell_type": "markdown",
      "metadata": {
        "id": "view-in-github",
        "colab_type": "text"
      },
      "source": [
        "<a href=\"https://colab.research.google.com/github/CENFARG/ocr2text2table/blob/main/OCR_simple_con_IA.ipynb\" target=\"_parent\"><img src=\"https://colab.research.google.com/assets/colab-badge.svg\" alt=\"Open In Colab\"/></a>"
      ]
    },
    {
      "cell_type": "markdown",
      "source": [
        "Con esta linea le decimos al al compilador (programa que ejecuta el codigo) que instale las herramientas que necesitamos"
      ],
      "metadata": {
        "id": "u0epNutu2ADG"
      }
    },
    {
      "cell_type": "code",
      "execution_count": null,
      "metadata": {
        "id": "zBBPAECi1xmp"
      },
      "outputs": [],
      "source": [
        "# Instalar dependencias necesarias\n",
        "!apt-get install -y poppler-utils tesseract-ocr tesseract-ocr-spa\n",
        "!pip install pytesseract pdf2image opencv-python pandas openai tabula-py markdownify python-docx xlsxwriter"
      ]
    },
    {
      "cell_type": "markdown",
      "source": [
        "Con esta linea instalamos las dependecias previamente instaladas"
      ],
      "metadata": {
        "id": "bOPdfK732Tfm"
      }
    },
    {
      "cell_type": "code",
      "source": [
        "# importamos las dependencias instaladas\n",
        "import pytesseract\n",
        "import cv2\n",
        "import numpy as np\n",
        "import pandas as pd\n",
        "import openai\n",
        "import os\n",
        "from pdf2image import convert_from_path\n",
        "from google.colab import files\n",
        "import tabula\n",
        "from PIL import Image\n",
        "from markdownify import markdownify as md\n",
        "from docx import Document"
      ],
      "metadata": {
        "id": "u3PyVCiA2KOu"
      },
      "execution_count": 88,
      "outputs": []
    },
    {
      "cell_type": "markdown",
      "source": [
        "Configuramos la herramienta de OCR Tesseract en idioma Español o el que tiene el PDF/IMAGEN"
      ],
      "metadata": {
        "id": "scIE9UPfj9ty"
      }
    },
    {
      "cell_type": "code",
      "source": [
        "# Configurar Tesseract para usar el idioma español\n",
        "os.environ[\"TESSDATA_PREFIX\"] = \"/usr/share/tesseract-ocr/4.00/tessdata/\""
      ],
      "metadata": {
        "id": "OpKo75HRkGHc"
      },
      "execution_count": 100,
      "outputs": []
    },
    {
      "cell_type": "markdown",
      "source": [
        "Crear las carpetas de trabajo de los archivos de subida y descargas"
      ],
      "metadata": {
        "id": "fCcGH--hplb1"
      }
    },
    {
      "cell_type": "code",
      "source": [
        "# Crear carpetas de trabajo\n",
        "os.makedirs(\"upload_files\", exist_ok=True)\n",
        "os.makedirs(\"output_files\", exist_ok=True)"
      ],
      "metadata": {
        "id": "awSRwfGGpswf"
      },
      "execution_count": 99,
      "outputs": []
    },
    {
      "cell_type": "markdown",
      "source": [
        "Definimos la funcion para subir archivos pdf o imagenes de hasta 20Mb"
      ],
      "metadata": {
        "id": "X8x55pIS2iSA"
      }
    },
    {
      "cell_type": "code",
      "source": [
        "def get_unique_filename(folder, filename):\n",
        "    \"\"\"Genera un nombre de archivo único si ya existe en la carpeta.\"\"\"\n",
        "    base, ext = os.path.splitext(filename)\n",
        "    counter = 1\n",
        "    new_filename = filename\n",
        "    while os.path.exists(os.path.join(folder, new_filename)):\n",
        "        new_filename = f\"{base}_{counter}{ext}\"\n",
        "        counter += 1\n",
        "    return new_filename\n",
        "\n",
        "def upload_file():\n",
        "    \"\"\"Permite subir un archivo (PDF o imagen) de hasta 20MB\"\"\"\n",
        "    uploaded = files.upload()\n",
        "    for filename in uploaded.keys():\n",
        "        file_size = os.stat(filename).st_size / (1024 * 1024)  # Convertir a MB\n",
        "        if file_size > 20:\n",
        "            print(\"El archivo excede el límite de 20MB.\")\n",
        "            return None\n",
        "        new_path = os.path.join(\"upload_files\", filename)\n",
        "        os.rename(filename, new_path)\n",
        "        return new_path"
      ],
      "metadata": {
        "id": "Ojp_JHR22qGK"
      },
      "execution_count": 98,
      "outputs": []
    },
    {
      "cell_type": "markdown",
      "source": [
        "Definimos una funcion que verifica la calidad del PDF o imagen para hacer OCR"
      ],
      "metadata": {
        "id": "S3hizhsi23vj"
      }
    },
    {
      "cell_type": "code",
      "source": [
        "def evaluate_pdf_quality(pdf_path):\n",
        "    \"\"\"Evalúa la calidad del PDF para OCR (0-100%)\"\"\"\n",
        "    images = convert_from_path(pdf_path)\n",
        "    total_score = 0\n",
        "    for img in images:\n",
        "        img = np.array(img)\n",
        "        gray = cv2.cvtColor(img, cv2.COLOR_RGB2GRAY)\n",
        "        blur = cv2.Laplacian(gray, cv2.CV_64F).var()\n",
        "        total_score += min(100, max(0, blur / 500 * 100))  # Normalizar\n",
        "    return total_score / len(images)"
      ],
      "metadata": {
        "id": "FLepRDSH29bb"
      },
      "execution_count": 101,
      "outputs": []
    },
    {
      "cell_type": "markdown",
      "source": [
        "Definimos la funcion de extracción de texto (OCR)"
      ],
      "metadata": {
        "id": "1KJygORE2-VE"
      }
    },
    {
      "cell_type": "code",
      "source": [
        "def extract_text_from_pdf(pdf_path):\n",
        "    \"\"\"Extrae texto de un PDF usando OCR y mantiene formato\"\"\"\n",
        "    images = convert_from_path(pdf_path)\n",
        "    text = \"\"\n",
        "    for img in images:\n",
        "        text += pytesseract.image_to_string(img, lang='spa', config='--oem 3 --psm 6') + \"\\n\"\n",
        "    return text\n",
        "\n",
        "def extract_text_from_image(image_path):\n",
        "    \"\"\"Extrae texto de una imagen usando OCR.\"\"\"\n",
        "    img = Image.open(image_path)\n",
        "    text = pytesseract.image_to_string(img, lang='spa', config='--oem 3 --psm 6')\n",
        "    return text\n",
        "\n",
        "def extract_tables_from_pdf(pdf_path):\n",
        "    \"\"\"Extrae todas las tablas de un PDF y las guarda en un Excel con múltiples hojas\"\"\"\n",
        "    tables = tabula.read_pdf(pdf_path, pages='all', multiple_tables=True)\n",
        "    return tables if tables else []"
      ],
      "metadata": {
        "id": "3twbiCn83ILB"
      },
      "execution_count": 102,
      "outputs": []
    },
    {
      "cell_type": "markdown",
      "source": [
        "Guardamos el archivo en formato Word y Excel"
      ],
      "metadata": {
        "id": "bVRAU38cf_2Z"
      }
    },
    {
      "cell_type": "code",
      "source": [
        "def clean_text(text):\n",
        "    \"\"\"Limpia el texto eliminando caracteres no compatibles con XML\"\"\"\n",
        "    return \"\".join(char if char.isprintable() else \" \" for char in text)\n",
        "\n",
        "def save_text_as_docx(text, filename):\n",
        "    \"\"\"Guarda el texto extraído en un archivo Word.\"\"\"\n",
        "    text = clean_text(text)\n",
        "    doc = Document()\n",
        "    doc.add_paragraph(text)\n",
        "    filename = get_unique_filename(\"output_files\", filename)\n",
        "    output_path = os.path.join(\"output_files\", filename)\n",
        "    doc.save(output_path)\n",
        "    files.download(output_path)\n",
        "    print(f\"Archivo {output_path} listo para descarga.\")\n",
        "\n",
        "def save_tables_to_excel(tables, filename):\n",
        "    \"\"\"Guarda todas las tablas extraídas en un archivo Excel con múltiples hojas.\"\"\"\n",
        "    if tables:\n",
        "        filename = get_unique_filename(\"output_files\", filename)\n",
        "        output_path = os.path.join(\"output_files\", filename)\n",
        "        with pd.ExcelWriter(output_path, engine='xlsxwriter') as writer:\n",
        "            for i, table in enumerate(tables):\n",
        "                table.to_excel(writer, sheet_name=f\"Tabla_{i+1}\", index=False)\n",
        "        files.download(output_path)\n",
        "        print(f\"Tablas guardadas en {output_path}, listas para descarga.\")"
      ],
      "metadata": {
        "id": "IA7jlT5HgRvH"
      },
      "execution_count": 103,
      "outputs": []
    },
    {
      "cell_type": "markdown",
      "source": [
        "Generamos la función para eliminar los archivos."
      ],
      "metadata": {
        "id": "9RvYTsO7qDHs"
      }
    },
    {
      "cell_type": "code",
      "source": [
        "def cleanup():\n",
        "    \"\"\"Elimina todos los archivos de las carpetas de trabajo, ignorando directorios.\"\"\"\n",
        "    confirm = input(\"¿Eliminar archivos temporales? (s/n): \").strip().lower()\n",
        "    if confirm == 's':\n",
        "        for folder in [\"upload_files\", \"output_files\"]:\n",
        "            for file in os.listdir(folder):\n",
        "                file_path = os.path.join(folder, file)\n",
        "                if os.path.isfile(file_path):  # Solo elimina archivos\n",
        "                    os.remove(file_path)\n",
        "        print(\"Archivos temporales eliminados.\")"
      ],
      "metadata": {
        "id": "f7GEj5kuqIvd"
      },
      "execution_count": 108,
      "outputs": []
    },
    {
      "cell_type": "markdown",
      "source": [
        "Flujo del programa principal para utilizar la Herramienta de OCR"
      ],
      "metadata": {
        "id": "jOV5VfT-gazJ"
      }
    },
    {
      "cell_type": "code",
      "source": [
        "# --- Flujo principal ---\n",
        "archivo = upload_file()\n",
        "if archivo:\n",
        "    nombre_base = os.path.splitext(os.path.basename(archivo))[0]\n",
        "    if archivo.endswith(\".pdf\"):\n",
        "        calidad = evaluate_pdf_quality(archivo)\n",
        "        print(f\"Calidad estimada del PDF para OCR: {calidad:.2f}%\")\n",
        "        texto = extract_text_from_pdf(archivo)\n",
        "        print(\"Extrayendo tablas...\")\n",
        "        tablas = extract_tables_from_pdf(archivo)\n",
        "        save_tables_to_excel(tablas, f\"{nombre_base}.xlsx\")\n",
        "    else:\n",
        "        texto = extract_text_from_image(archivo)\n",
        "\n",
        "    save_text_as_docx(texto, f\"{nombre_base}.docx\")\n",
        "    cleanup()\n",
        "\n",
        "    # Mejora con OpenAI (requiere API Key válida)\n",
        "    # api_key = input(\"Introduce tu OpenAI API Key (opcional para mejora de texto): \")\n",
        "    # if api_key:\n",
        "        # texto = improve_text_with_openai(texto, api_key)\n",
        "        # print(\"Texto mejorado con OpenAI.\")\n",
        "\n"
      ],
      "metadata": {
        "id": "QaI8pEjoglB0"
      },
      "execution_count": null,
      "outputs": []
    }
  ]
}